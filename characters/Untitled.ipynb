{
 "cells": [
  {
   "cell_type": "code",
   "execution_count": 2,
   "metadata": {
    "collapsed": false
   },
   "outputs": [
    {
     "data": {
      "text/plain": [
       "'1.9.3'"
      ]
     },
     "execution_count": 2,
     "metadata": {},
     "output_type": "execute_result"
    }
   ],
   "source": [
    "import plotly\n",
    "plotly.__version__"
   ]
  },
  {
   "cell_type": "code",
   "execution_count": 125,
   "metadata": {
    "collapsed": false
   },
   "outputs": [],
   "source": [
    "import plotly.plotly as py\n",
    "import plotly.graph_objs as go\n",
    "\n",
    "import numpy as np"
   ]
  },
  {
   "cell_type": "code",
   "execution_count": 126,
   "metadata": {
    "collapsed": false
   },
   "outputs": [],
   "source": [
    "N = 147\n",
    "files = open(\"data/50-50 no size scaling\")\n",
    "random_y0 = []\n",
    "random_x = []\n",
    "counter = 0\n",
    "for a in files:\n",
    "    if(counter % 2 == 1):\n",
    "        r = a.split()\n",
    "        random_y0.append(float(r[5])*100)\n",
    "        random_x.append(int(r[3]))\n",
    "    counter+=1\n",
    "    \n",
    "files = open(\"data/50-50 size scaling\")\n",
    "random_y1 = []\n",
    "counter = 0\n",
    "for a in files:\n",
    "    if(counter % 2 == 1):\n",
    "        r = a.split()\n",
    "        random_y1.append(float(r[5])*100)\n",
    "    counter+=1\n",
    "    \n",
    "files = open(\"data/75-25 with scaling\")\n",
    "random_y2 = []\n",
    "counter = 0\n",
    "for a in files:\n",
    "    if(counter % 2 == 1):\n",
    "        r = a.split()\n",
    "        random_y2.append(float(r[5])*100)\n",
    "    counter+=1\n",
    "    \n",
    "files = open(\"data/75-25 no size scaling\")\n",
    "random_y3 = []\n",
    "counter = 0\n",
    "for a in files:\n",
    "    if(counter % 2 == 1):\n",
    "        r = a.split()\n",
    "        random_y3.append(float(r[5])*100)\n",
    "    counter+=1\n",
    "    \n",
    "files = open(\"data/85-15 size scaling\")\n",
    "random_y4 = []\n",
    "counter = 0\n",
    "for a in files:\n",
    "    if(counter % 2 == 1):\n",
    "        r = a.split()\n",
    "        random_y4.append(float(r[5])*100)\n",
    "    counter+=1\n",
    "\n",
    "files = open(\"data/85-15 no size scaling\")\n",
    "random_y5 = []\n",
    "counter = 0\n",
    "for a in files:\n",
    "    if(counter % 2 == 1):\n",
    "        r = a.split()\n",
    "        random_y5.append(float(r[5])*100)\n",
    "    counter+=1"
   ]
  },
  {
   "cell_type": "code",
   "execution_count": 127,
   "metadata": {
    "collapsed": false
   },
   "outputs": [],
   "source": [
    "random_x.sort()\n",
    "trace0 = go.Scatter(\n",
    "    x = random_x,\n",
    "    y = random_y0,\n",
    "    mode = 'lines',\n",
    "    name = '50-50 no scaling'\n",
    ")\n",
    "\n",
    "trace1 = go.Scatter(\n",
    "    x = random_x,\n",
    "    y = random_y1,\n",
    "    mode = 'lines',\n",
    "    name = '50-50 scaling'\n",
    ")\n",
    "\n",
    "trace2 = go.Scatter(\n",
    "    x = random_x,\n",
    "    y = random_y2,\n",
    "    mode = 'lines',\n",
    "    name = '75-25 scaling'\n",
    ")\n",
    "\n",
    "trace3 = go.Scatter(\n",
    "    x = random_x,\n",
    "    y = random_y3,\n",
    "    mode = 'lines',\n",
    "    name = '75-25 no scaling'\n",
    ")\n",
    "\n",
    "trace4 = go.Scatter(\n",
    "    x = random_x,\n",
    "    y = random_y4,\n",
    "    mode = 'lines',\n",
    "    name = '85-15 scaling'\n",
    ")\n",
    "\n",
    "trace5 = go.Scatter(\n",
    "    x = random_x,\n",
    "    y = random_y5,\n",
    "    mode = 'lines',\n",
    "    name = '85-15 no scaling'\n",
    ")"
   ]
  },
  {
   "cell_type": "code",
   "execution_count": 128,
   "metadata": {
    "collapsed": false
   },
   "outputs": [],
   "source": [
    "data = [trace0,trace1,trace2,trace3,trace4, trace5]"
   ]
  },
  {
   "cell_type": "code",
   "execution_count": 129,
   "metadata": {
    "collapsed": false
   },
   "outputs": [
    {
     "name": "stdout",
     "output_type": "stream",
     "text": [
      "High five! You successfuly sent some data to your account on plotly. View your plot in your browser at https://plot.ly/~yepster/0 or inside your plot.ly account where it is named 'line-mode'\n"
     ]
    },
    {
     "data": {
      "text/html": [
       "<iframe id=\"igraph\" scrolling=\"no\" style=\"border:none;\"seamless=\"seamless\" src=\"https://plot.ly/~yepster/0.embed\" height=\"525px\" width=\"100%\"></iframe>"
      ],
      "text/plain": [
       "<plotly.tools.PlotlyDisplay object>"
      ]
     },
     "execution_count": 129,
     "metadata": {},
     "output_type": "execute_result"
    }
   ],
   "source": [
    "py.iplot(data, filename='line-mode')"
   ]
  },
  {
   "cell_type": "code",
   "execution_count": null,
   "metadata": {
    "collapsed": true
   },
   "outputs": [],
   "source": []
  }
 ],
 "metadata": {
  "kernelspec": {
   "display_name": "Python 2",
   "language": "python",
   "name": "python2"
  },
  "language_info": {
   "codemirror_mode": {
    "name": "ipython",
    "version": 2
   },
   "file_extension": ".py",
   "mimetype": "text/x-python",
   "name": "python",
   "nbconvert_exporter": "python",
   "pygments_lexer": "ipython2",
   "version": "2.7.6"
  }
 },
 "nbformat": 4,
 "nbformat_minor": 0
}